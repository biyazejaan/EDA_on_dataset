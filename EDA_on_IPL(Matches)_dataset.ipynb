{
 "cells": [
  {
   "cell_type": "code",
   "execution_count": 3,
   "metadata": {},
   "outputs": [],
   "source": [
    "#loading the required libraries\n",
    "import pandas as pd\n",
    "import matplotlib.pyplot as plt\n",
    "import seaborn as sns\n",
    "import numpy as np"
   ]
  },
  {
   "cell_type": "code",
   "execution_count": 5,
   "metadata": {},
   "outputs": [],
   "source": [
    "#loading the dataset\n",
    "ipl = pd.read_csv('D:/git/jaan_repo/datasets/IPL_matches(2008-2016).csv')"
   ]
  },
  {
   "cell_type": "code",
   "execution_count": 94,
   "metadata": {},
   "outputs": [
    {
     "data": {
      "text/html": [
       "<div>\n",
       "<style scoped>\n",
       "    .dataframe tbody tr th:only-of-type {\n",
       "        vertical-align: middle;\n",
       "    }\n",
       "\n",
       "    .dataframe tbody tr th {\n",
       "        vertical-align: top;\n",
       "    }\n",
       "\n",
       "    .dataframe thead th {\n",
       "        text-align: right;\n",
       "    }\n",
       "</style>\n",
       "<table border=\"1\" class=\"dataframe\">\n",
       "  <thead>\n",
       "    <tr style=\"text-align: right;\">\n",
       "      <th></th>\n",
       "      <th>id</th>\n",
       "      <th>season</th>\n",
       "      <th>city</th>\n",
       "      <th>date</th>\n",
       "      <th>team1</th>\n",
       "      <th>team2</th>\n",
       "      <th>toss_winner</th>\n",
       "      <th>toss_decision</th>\n",
       "      <th>result</th>\n",
       "      <th>dl_applied</th>\n",
       "      <th>winner</th>\n",
       "      <th>win_by_runs</th>\n",
       "      <th>win_by_wickets</th>\n",
       "      <th>player_of_match</th>\n",
       "      <th>venue</th>\n",
       "      <th>umpire1</th>\n",
       "      <th>umpire2</th>\n",
       "      <th>umpire3</th>\n",
       "    </tr>\n",
       "  </thead>\n",
       "  <tbody>\n",
       "    <tr>\n",
       "      <th>0</th>\n",
       "      <td>1</td>\n",
       "      <td>2008</td>\n",
       "      <td>Bangalore</td>\n",
       "      <td>2008-04-18</td>\n",
       "      <td>Kolkata Knight Riders</td>\n",
       "      <td>Royal Challengers Bangalore</td>\n",
       "      <td>Royal Challengers Bangalore</td>\n",
       "      <td>field</td>\n",
       "      <td>normal</td>\n",
       "      <td>0</td>\n",
       "      <td>Kolkata Knight Riders</td>\n",
       "      <td>140</td>\n",
       "      <td>0</td>\n",
       "      <td>BB McCullum</td>\n",
       "      <td>M Chinnaswamy Stadium</td>\n",
       "      <td>Asad Rauf</td>\n",
       "      <td>RE Koertzen</td>\n",
       "      <td>NaN</td>\n",
       "    </tr>\n",
       "    <tr>\n",
       "      <th>1</th>\n",
       "      <td>2</td>\n",
       "      <td>2008</td>\n",
       "      <td>Chandigarh</td>\n",
       "      <td>2008-04-19</td>\n",
       "      <td>Chennai Super Kings</td>\n",
       "      <td>Kings XI Punjab</td>\n",
       "      <td>Chennai Super Kings</td>\n",
       "      <td>bat</td>\n",
       "      <td>normal</td>\n",
       "      <td>0</td>\n",
       "      <td>Chennai Super Kings</td>\n",
       "      <td>33</td>\n",
       "      <td>0</td>\n",
       "      <td>MEK Hussey</td>\n",
       "      <td>Punjab Cricket Association Stadium, Mohali</td>\n",
       "      <td>MR Benson</td>\n",
       "      <td>SL Shastri</td>\n",
       "      <td>NaN</td>\n",
       "    </tr>\n",
       "    <tr>\n",
       "      <th>2</th>\n",
       "      <td>3</td>\n",
       "      <td>2008</td>\n",
       "      <td>Delhi</td>\n",
       "      <td>2008-04-19</td>\n",
       "      <td>Rajasthan Royals</td>\n",
       "      <td>Delhi Daredevils</td>\n",
       "      <td>Rajasthan Royals</td>\n",
       "      <td>bat</td>\n",
       "      <td>normal</td>\n",
       "      <td>0</td>\n",
       "      <td>Delhi Daredevils</td>\n",
       "      <td>0</td>\n",
       "      <td>9</td>\n",
       "      <td>MF Maharoof</td>\n",
       "      <td>Feroz Shah Kotla</td>\n",
       "      <td>Aleem Dar</td>\n",
       "      <td>GA Pratapkumar</td>\n",
       "      <td>NaN</td>\n",
       "    </tr>\n",
       "  </tbody>\n",
       "</table>\n",
       "</div>"
      ],
      "text/plain": [
       "   id  season        city        date                  team1  \\\n",
       "0   1    2008   Bangalore  2008-04-18  Kolkata Knight Riders   \n",
       "1   2    2008  Chandigarh  2008-04-19    Chennai Super Kings   \n",
       "2   3    2008       Delhi  2008-04-19       Rajasthan Royals   \n",
       "\n",
       "                         team2                  toss_winner toss_decision  \\\n",
       "0  Royal Challengers Bangalore  Royal Challengers Bangalore         field   \n",
       "1              Kings XI Punjab          Chennai Super Kings           bat   \n",
       "2             Delhi Daredevils             Rajasthan Royals           bat   \n",
       "\n",
       "   result  dl_applied                 winner  win_by_runs  win_by_wickets  \\\n",
       "0  normal           0  Kolkata Knight Riders          140               0   \n",
       "1  normal           0    Chennai Super Kings           33               0   \n",
       "2  normal           0       Delhi Daredevils            0               9   \n",
       "\n",
       "  player_of_match                                       venue    umpire1  \\\n",
       "0     BB McCullum                       M Chinnaswamy Stadium  Asad Rauf   \n",
       "1      MEK Hussey  Punjab Cricket Association Stadium, Mohali  MR Benson   \n",
       "2     MF Maharoof                            Feroz Shah Kotla  Aleem Dar   \n",
       "\n",
       "          umpire2  umpire3  \n",
       "0     RE Koertzen      NaN  \n",
       "1      SL Shastri      NaN  \n",
       "2  GA Pratapkumar      NaN  "
      ]
     },
     "execution_count": 94,
     "metadata": {},
     "output_type": "execute_result"
    }
   ],
   "source": [
    "# having a look at the dataset\n",
    "ipl.head(3)"
   ]
  },
  {
   "cell_type": "code",
   "execution_count": 95,
   "metadata": {},
   "outputs": [
    {
     "data": {
      "text/html": [
       "<div>\n",
       "<style scoped>\n",
       "    .dataframe tbody tr th:only-of-type {\n",
       "        vertical-align: middle;\n",
       "    }\n",
       "\n",
       "    .dataframe tbody tr th {\n",
       "        vertical-align: top;\n",
       "    }\n",
       "\n",
       "    .dataframe thead th {\n",
       "        text-align: right;\n",
       "    }\n",
       "</style>\n",
       "<table border=\"1\" class=\"dataframe\">\n",
       "  <thead>\n",
       "    <tr style=\"text-align: right;\">\n",
       "      <th></th>\n",
       "      <th>id</th>\n",
       "      <th>season</th>\n",
       "      <th>city</th>\n",
       "      <th>date</th>\n",
       "      <th>team1</th>\n",
       "      <th>team2</th>\n",
       "      <th>toss_winner</th>\n",
       "      <th>toss_decision</th>\n",
       "      <th>result</th>\n",
       "      <th>dl_applied</th>\n",
       "      <th>winner</th>\n",
       "      <th>win_by_runs</th>\n",
       "      <th>win_by_wickets</th>\n",
       "      <th>player_of_match</th>\n",
       "      <th>venue</th>\n",
       "      <th>umpire1</th>\n",
       "      <th>umpire2</th>\n",
       "      <th>umpire3</th>\n",
       "    </tr>\n",
       "  </thead>\n",
       "  <tbody>\n",
       "    <tr>\n",
       "      <th>574</th>\n",
       "      <td>575</td>\n",
       "      <td>2016</td>\n",
       "      <td>Delhi</td>\n",
       "      <td>2016-05-25</td>\n",
       "      <td>Sunrisers Hyderabad</td>\n",
       "      <td>Kolkata Knight Riders</td>\n",
       "      <td>Kolkata Knight Riders</td>\n",
       "      <td>field</td>\n",
       "      <td>normal</td>\n",
       "      <td>0</td>\n",
       "      <td>Sunrisers Hyderabad</td>\n",
       "      <td>22</td>\n",
       "      <td>0</td>\n",
       "      <td>MC Henriques</td>\n",
       "      <td>Feroz Shah Kotla</td>\n",
       "      <td>M Erasmus</td>\n",
       "      <td>C Shamshuddin</td>\n",
       "      <td>NaN</td>\n",
       "    </tr>\n",
       "    <tr>\n",
       "      <th>575</th>\n",
       "      <td>576</td>\n",
       "      <td>2016</td>\n",
       "      <td>Delhi</td>\n",
       "      <td>2016-05-27</td>\n",
       "      <td>Gujarat Lions</td>\n",
       "      <td>Sunrisers Hyderabad</td>\n",
       "      <td>Sunrisers Hyderabad</td>\n",
       "      <td>field</td>\n",
       "      <td>normal</td>\n",
       "      <td>0</td>\n",
       "      <td>Sunrisers Hyderabad</td>\n",
       "      <td>0</td>\n",
       "      <td>4</td>\n",
       "      <td>DA Warner</td>\n",
       "      <td>Feroz Shah Kotla</td>\n",
       "      <td>M Erasmus</td>\n",
       "      <td>CK Nandan</td>\n",
       "      <td>NaN</td>\n",
       "    </tr>\n",
       "    <tr>\n",
       "      <th>576</th>\n",
       "      <td>577</td>\n",
       "      <td>2016</td>\n",
       "      <td>Bangalore</td>\n",
       "      <td>2016-05-29</td>\n",
       "      <td>Sunrisers Hyderabad</td>\n",
       "      <td>Royal Challengers Bangalore</td>\n",
       "      <td>Sunrisers Hyderabad</td>\n",
       "      <td>bat</td>\n",
       "      <td>normal</td>\n",
       "      <td>0</td>\n",
       "      <td>Sunrisers Hyderabad</td>\n",
       "      <td>8</td>\n",
       "      <td>0</td>\n",
       "      <td>BCJ Cutting</td>\n",
       "      <td>M Chinnaswamy Stadium</td>\n",
       "      <td>HDPK Dharmasena</td>\n",
       "      <td>BNJ Oxenford</td>\n",
       "      <td>NaN</td>\n",
       "    </tr>\n",
       "  </tbody>\n",
       "</table>\n",
       "</div>"
      ],
      "text/plain": [
       "      id  season       city        date                team1  \\\n",
       "574  575    2016      Delhi  2016-05-25  Sunrisers Hyderabad   \n",
       "575  576    2016      Delhi  2016-05-27        Gujarat Lions   \n",
       "576  577    2016  Bangalore  2016-05-29  Sunrisers Hyderabad   \n",
       "\n",
       "                           team2            toss_winner toss_decision  result  \\\n",
       "574        Kolkata Knight Riders  Kolkata Knight Riders         field  normal   \n",
       "575          Sunrisers Hyderabad    Sunrisers Hyderabad         field  normal   \n",
       "576  Royal Challengers Bangalore    Sunrisers Hyderabad           bat  normal   \n",
       "\n",
       "     dl_applied               winner  win_by_runs  win_by_wickets  \\\n",
       "574           0  Sunrisers Hyderabad           22               0   \n",
       "575           0  Sunrisers Hyderabad            0               4   \n",
       "576           0  Sunrisers Hyderabad            8               0   \n",
       "\n",
       "    player_of_match                  venue          umpire1        umpire2  \\\n",
       "574    MC Henriques       Feroz Shah Kotla        M Erasmus  C Shamshuddin   \n",
       "575       DA Warner       Feroz Shah Kotla        M Erasmus      CK Nandan   \n",
       "576     BCJ Cutting  M Chinnaswamy Stadium  HDPK Dharmasena   BNJ Oxenford   \n",
       "\n",
       "     umpire3  \n",
       "574      NaN  \n",
       "575      NaN  \n",
       "576      NaN  "
      ]
     },
     "execution_count": 95,
     "metadata": {},
     "output_type": "execute_result"
    }
   ],
   "source": [
    "# Having a look at the bottom 5 rows of the dataset\n",
    "ipl.tail(3)"
   ]
  },
  {
   "cell_type": "code",
   "execution_count": 92,
   "metadata": {},
   "outputs": [
    {
     "name": "stdout",
     "output_type": "stream",
     "text": [
      "Number of rows    = 577\n",
      "Number of columns = 18\n"
     ]
    }
   ],
   "source": [
    "# No of rows and columns in the dataset\n",
    "\n",
    "print(f'Number of rows    = {ipl.shape[0]}')\n",
    "print(f'Number of columns = {ipl.shape[1]}')\n",
    "\n",
    "# Alternate\n",
    "# print(f'Number of rows    = {len(matches)}')\n",
    "# print(f'Number of columns = {len(matches.columns)}')"
   ]
  },
  {
   "cell_type": "code",
   "execution_count": 93,
   "metadata": {},
   "outputs": [
    {
     "data": {
      "text/plain": [
       "['id',\n",
       " 'season',\n",
       " 'city',\n",
       " 'date',\n",
       " 'team1',\n",
       " 'team2',\n",
       " 'toss_winner',\n",
       " 'toss_decision',\n",
       " 'result',\n",
       " 'dl_applied',\n",
       " 'winner',\n",
       " 'win_by_runs',\n",
       " 'win_by_wickets',\n",
       " 'player_of_match',\n",
       " 'venue',\n",
       " 'umpire1',\n",
       " 'umpire2',\n",
       " 'umpire3']"
      ]
     },
     "execution_count": 93,
     "metadata": {},
     "output_type": "execute_result"
    }
   ],
   "source": [
    "# list of columns in the dataset\n",
    "ipl.columns.tolist()"
   ]
  },
  {
   "cell_type": "code",
   "execution_count": 82,
   "metadata": {},
   "outputs": [],
   "source": [
    "teams=pd.concat([ipl['team1'],ipl['team2']],axis=1).values\n"
   ]
  },
  {
   "cell_type": "code",
   "execution_count": 84,
   "metadata": {},
   "outputs": [
    {
     "data": {
      "text/plain": [
       "['Chennai Super Kings',\n",
       " 'Deccan Chargers',\n",
       " 'Delhi Daredevils',\n",
       " 'Gujarat Lions',\n",
       " 'Kings XI Punjab',\n",
       " 'Kochi Tuskers Kerala',\n",
       " 'Kolkata Knight Riders',\n",
       " 'Mumbai Indians',\n",
       " 'Pune Warriors',\n",
       " 'Rajasthan Royals',\n",
       " 'Rising Pune Supergiants',\n",
       " 'Royal Challengers Bangalore',\n",
       " 'Sunrisers Hyderabad']"
      ]
     },
     "execution_count": 84,
     "metadata": {},
     "output_type": "execute_result"
    }
   ],
   "source": [
    "np.unique(teams[:,0]).tolist()"
   ]
  },
  {
   "cell_type": "code",
   "execution_count": null,
   "metadata": {},
   "outputs": [],
   "source": [
    "# ipl.team1.replace({'Chennai Super Kings' : 'CSK','Deccan Chargers':'DC',\n",
    "#                    'Delhi Daredevils':'DD','Gujarat Lions':'GL','Kings XI Punjab':'KXIP',\n",
    "#                    'Kochi Tuskers Kerala':'KTK','Kolkata Knight Riders':'KKR','Mumbai Indians':'MI',\n",
    "#                    'Pune Warriors':'PW','Rajasthan Royals':'RR','Rising Pune Supergiants':'RPS',\n",
    "#                    'Sunrisers Hyderabad':'SH'},regex=True,inplace=True)\n",
    "\n",
    "# ipl.team2.replace({'Chennai Super Kings' : 'CSK','Deccan Chargers':'DC',\n",
    "#                    'Delhi Daredevils':'DD','Gujarat Lions':'GL','Kings XI Punjab':'KXIP',\n",
    "#                    'Kochi Tuskers Kerala':'KTK','Kolkata Knight Riders':'KKR','Mumbai Indians':'MI',\n",
    "#                    'Pune Warriors':'PW','Rajasthan Royals':'RR','Rising Pune Supergiants':'RPS',\n",
    "#                    'Sunrisers Hyderabad':'SH'},regex=True,inplace=True)\n",
    "\n",
    "# ipl.winner.replace({'Chennai Super Kings' : 'CSK','Deccan Chargers':'DC',\n",
    "#                    'Delhi Daredevils':'DD','Gujarat Lions':'GL','Kings XI Punjab':'KXIP',\n",
    "#                    'Kochi Tuskers Kerala':'KTK','Kolkata Knight Riders':'KKR','Mumbai Indians':'MI',\n",
    "#                    'Pune Warriors':'PW','Rajasthan Royals':'RR','Rising Pune Supergiants':'RPS',\n",
    "#                    'Sunrisers Hyderabad':'SH'},regex=True,inplace=True)\n",
    "\n",
    "# ipl.toss_winner.replace({'Chennai Super Kings' : 'CSK','Deccan Chargers':'DC',\n",
    "#                    'Delhi Daredevils':'DD','Gujarat Lions':'GL','Kings XI Punjab':'KXIP',\n",
    "#                    'Kochi Tuskers Kerala':'KTK','Kolkata Knight Riders':'KKR','Mumbai Indians':'MI',\n",
    "#                    'Pune Warriors':'PW','Rajasthan Royals':'RR','Rising Pune Supergiants':'RPS',\n",
    "#                    'Sunrisers Hyderabad':'SH'},regex=True,inplace=True)\n",
    "                   "
   ]
  },
  {
   "cell_type": "code",
   "execution_count": null,
   "metadata": {},
   "outputs": [],
   "source": []
  },
  {
   "cell_type": "code",
   "execution_count": 10,
   "metadata": {},
   "outputs": [
    {
     "data": {
      "text/plain": [
       "CH Gayle          17\n",
       "YK Pathan         16\n",
       "AB de Villiers    15\n",
       "DA Warner         14\n",
       "RG Sharma         13\n",
       "                  ..\n",
       "MN Samuels         1\n",
       "S Badrinath        1\n",
       "R Bhatia           1\n",
       "RE Levi            1\n",
       "BCJ Cutting        1\n",
       "Name: player_of_match, Length: 187, dtype: int64"
      ]
     },
     "execution_count": 10,
     "metadata": {},
     "output_type": "execute_result"
    }
   ],
   "source": [
    "# most man of the match awards\n",
    "ipl['player_of_match'].value_counts()"
   ]
  },
  {
   "cell_type": "code",
   "execution_count": 11,
   "metadata": {},
   "outputs": [
    {
     "data": {
      "text/plain": [
       "CH Gayle          17\n",
       "YK Pathan         16\n",
       "AB de Villiers    15\n",
       "DA Warner         14\n",
       "RG Sharma         13\n",
       "Name: player_of_match, dtype: int64"
      ]
     },
     "execution_count": 11,
     "metadata": {},
     "output_type": "execute_result"
    }
   ],
   "source": [
    "# top 10 players with most man of the match awards\n",
    "ipl['player_of_match'].value_counts()[0:5]"
   ]
  },
  {
   "cell_type": "code",
   "execution_count": 12,
   "metadata": {},
   "outputs": [
    {
     "data": {
      "text/plain": [
       "['CH Gayle', 'YK Pathan', 'AB de Villiers', 'DA Warner', 'RG Sharma']"
      ]
     },
     "execution_count": 12,
     "metadata": {},
     "output_type": "execute_result"
    }
   ],
   "source": [
    "list(ipl['player_of_match'].value_counts()[0:5].keys())"
   ]
  },
  {
   "cell_type": "code",
   "execution_count": 13,
   "metadata": {},
   "outputs": [
    {
     "name": "stderr",
     "output_type": "stream",
     "text": [
      "c:\\Users\\Jahanzaib\\AppData\\Local\\Programs\\Python\\Python310\\lib\\site-packages\\seaborn\\_decorators.py:36: FutureWarning: Pass the following variables as keyword args: x, y. From version 0.12, the only valid positional argument will be `data`, and passing other arguments without an explicit keyword will result in an error or misinterpretation.\n",
      "  warnings.warn(\n"
     ]
    },
    {
     "data": {
      "text/plain": [
       "<AxesSubplot:>"
      ]
     },
     "execution_count": 13,
     "metadata": {},
     "output_type": "execute_result"
    },
    {
     "data": {
      "image/png": "[encoded data removed]",
      "text/plain": [
       "<Figure size 720x360 with 1 Axes>"
      ]
     },
     "metadata": {},
     "output_type": "display_data"
    }
   ],
   "source": [
    "# barplot of top 5 most man of the match awards\n",
    "sns.set(rc = {'figure.figsize':(10,5)})\n",
    "sns.barplot(list(ipl['player_of_match'].value_counts()[0:5].keys()),list(ipl['player_of_match'].value_counts()[0:5]),palette='tab10')\n"
   ]
  },
  {
   "cell_type": "code",
   "execution_count": 14,
   "metadata": {},
   "outputs": [
    {
     "data": {
      "text/plain": [
       "normal       568\n",
       "tie            6\n",
       "no result      3\n",
       "Name: result, dtype: int64"
      ]
     },
     "execution_count": 14,
     "metadata": {},
     "output_type": "execute_result"
    }
   ],
   "source": [
    "# matches status\n",
    "ipl[\"result\"].value_counts()"
   ]
  },
  {
   "cell_type": "code",
   "execution_count": 15,
   "metadata": {},
   "outputs": [
    {
     "data": {
      "text/plain": [
       "Mumbai Indians                 74\n",
       "Kolkata Knight Riders          69\n",
       "Chennai Super Kings            66\n",
       "Kings XI Punjab                64\n",
       "Delhi Daredevils               64\n",
       "Rajasthan Royals               63\n",
       "Royal Challengers Bangalore    61\n",
       "Deccan Chargers                43\n",
       "Sunrisers Hyderabad            30\n",
       "Pune Warriors                  20\n",
       "Kochi Tuskers Kerala            8\n",
       "Gujarat Lions                   8\n",
       "Rising Pune Supergiants         7\n",
       "Name: toss_winner, dtype: int64"
      ]
     },
     "execution_count": 15,
     "metadata": {},
     "output_type": "execute_result"
    }
   ],
   "source": [
    "# most toss winners \n",
    "ipl['toss_winner'].value_counts()"
   ]
  },
  {
   "cell_type": "code",
   "execution_count": 19,
   "metadata": {},
   "outputs": [],
   "source": [
    "# list of winners who ( batted first )\n",
    "bat_first=ipl[ipl['win_by_runs']!=0]"
   ]
  },
  {
   "cell_type": "code",
   "execution_count": 20,
   "metadata": {},
   "outputs": [
    {
     "data": {
      "text/html": [
       "<div>\n",
       "<style scoped>\n",
       "    .dataframe tbody tr th:only-of-type {\n",
       "        vertical-align: middle;\n",
       "    }\n",
       "\n",
       "    .dataframe tbody tr th {\n",
       "        vertical-align: top;\n",
       "    }\n",
       "\n",
       "    .dataframe thead th {\n",
       "        text-align: right;\n",
       "    }\n",
       "</style>\n",
       "<table border=\"1\" class=\"dataframe\">\n",
       "  <thead>\n",
       "    <tr style=\"text-align: right;\">\n",
       "      <th></th>\n",
       "      <th>id</th>\n",
       "      <th>season</th>\n",
       "      <th>city</th>\n",
       "      <th>date</th>\n",
       "      <th>team1</th>\n",
       "      <th>team2</th>\n",
       "      <th>toss_winner</th>\n",
       "      <th>toss_decision</th>\n",
       "      <th>result</th>\n",
       "      <th>dl_applied</th>\n",
       "      <th>winner</th>\n",
       "      <th>win_by_runs</th>\n",
       "      <th>win_by_wickets</th>\n",
       "      <th>player_of_match</th>\n",
       "      <th>venue</th>\n",
       "      <th>umpire1</th>\n",
       "      <th>umpire2</th>\n",
       "      <th>umpire3</th>\n",
       "    </tr>\n",
       "  </thead>\n",
       "  <tbody>\n",
       "    <tr>\n",
       "      <th>0</th>\n",
       "      <td>1</td>\n",
       "      <td>2008</td>\n",
       "      <td>Bangalore</td>\n",
       "      <td>2008-04-18</td>\n",
       "      <td>Kolkata Knight Riders</td>\n",
       "      <td>Royal Challengers Bangalore</td>\n",
       "      <td>Royal Challengers Bangalore</td>\n",
       "      <td>field</td>\n",
       "      <td>normal</td>\n",
       "      <td>0</td>\n",
       "      <td>Kolkata Knight Riders</td>\n",
       "      <td>140</td>\n",
       "      <td>0</td>\n",
       "      <td>BB McCullum</td>\n",
       "      <td>M Chinnaswamy Stadium</td>\n",
       "      <td>Asad Rauf</td>\n",
       "      <td>RE Koertzen</td>\n",
       "      <td>NaN</td>\n",
       "    </tr>\n",
       "    <tr>\n",
       "      <th>1</th>\n",
       "      <td>2</td>\n",
       "      <td>2008</td>\n",
       "      <td>Chandigarh</td>\n",
       "      <td>2008-04-19</td>\n",
       "      <td>Chennai Super Kings</td>\n",
       "      <td>Kings XI Punjab</td>\n",
       "      <td>Chennai Super Kings</td>\n",
       "      <td>bat</td>\n",
       "      <td>normal</td>\n",
       "      <td>0</td>\n",
       "      <td>Chennai Super Kings</td>\n",
       "      <td>33</td>\n",
       "      <td>0</td>\n",
       "      <td>MEK Hussey</td>\n",
       "      <td>Punjab Cricket Association Stadium, Mohali</td>\n",
       "      <td>MR Benson</td>\n",
       "      <td>SL Shastri</td>\n",
       "      <td>NaN</td>\n",
       "    </tr>\n",
       "    <tr>\n",
       "      <th>7</th>\n",
       "      <td>8</td>\n",
       "      <td>2008</td>\n",
       "      <td>Chennai</td>\n",
       "      <td>2008-04-23</td>\n",
       "      <td>Chennai Super Kings</td>\n",
       "      <td>Mumbai Indians</td>\n",
       "      <td>Mumbai Indians</td>\n",
       "      <td>field</td>\n",
       "      <td>normal</td>\n",
       "      <td>0</td>\n",
       "      <td>Chennai Super Kings</td>\n",
       "      <td>6</td>\n",
       "      <td>0</td>\n",
       "      <td>ML Hayden</td>\n",
       "      <td>MA Chidambaram Stadium, Chepauk</td>\n",
       "      <td>DJ Harper</td>\n",
       "      <td>GA Pratapkumar</td>\n",
       "      <td>NaN</td>\n",
       "    </tr>\n",
       "    <tr>\n",
       "      <th>9</th>\n",
       "      <td>10</td>\n",
       "      <td>2008</td>\n",
       "      <td>Chandigarh</td>\n",
       "      <td>2008-04-25</td>\n",
       "      <td>Kings XI Punjab</td>\n",
       "      <td>Mumbai Indians</td>\n",
       "      <td>Mumbai Indians</td>\n",
       "      <td>field</td>\n",
       "      <td>normal</td>\n",
       "      <td>0</td>\n",
       "      <td>Kings XI Punjab</td>\n",
       "      <td>66</td>\n",
       "      <td>0</td>\n",
       "      <td>KC Sangakkara</td>\n",
       "      <td>Punjab Cricket Association Stadium, Mohali</td>\n",
       "      <td>Aleem Dar</td>\n",
       "      <td>AM Saheba</td>\n",
       "      <td>NaN</td>\n",
       "    </tr>\n",
       "    <tr>\n",
       "      <th>14</th>\n",
       "      <td>15</td>\n",
       "      <td>2008</td>\n",
       "      <td>Bangalore</td>\n",
       "      <td>2008-04-28</td>\n",
       "      <td>Chennai Super Kings</td>\n",
       "      <td>Royal Challengers Bangalore</td>\n",
       "      <td>Chennai Super Kings</td>\n",
       "      <td>bat</td>\n",
       "      <td>normal</td>\n",
       "      <td>0</td>\n",
       "      <td>Chennai Super Kings</td>\n",
       "      <td>13</td>\n",
       "      <td>0</td>\n",
       "      <td>MS Dhoni</td>\n",
       "      <td>M Chinnaswamy Stadium</td>\n",
       "      <td>BR Doctrove</td>\n",
       "      <td>RB Tiffin</td>\n",
       "      <td>NaN</td>\n",
       "    </tr>\n",
       "  </tbody>\n",
       "</table>\n",
       "</div>"
      ],
      "text/plain": [
       "    id  season        city        date                  team1  \\\n",
       "0    1    2008   Bangalore  2008-04-18  Kolkata Knight Riders   \n",
       "1    2    2008  Chandigarh  2008-04-19    Chennai Super Kings   \n",
       "7    8    2008     Chennai  2008-04-23    Chennai Super Kings   \n",
       "9   10    2008  Chandigarh  2008-04-25        Kings XI Punjab   \n",
       "14  15    2008   Bangalore  2008-04-28    Chennai Super Kings   \n",
       "\n",
       "                          team2                  toss_winner toss_decision  \\\n",
       "0   Royal Challengers Bangalore  Royal Challengers Bangalore         field   \n",
       "1               Kings XI Punjab          Chennai Super Kings           bat   \n",
       "7                Mumbai Indians               Mumbai Indians         field   \n",
       "9                Mumbai Indians               Mumbai Indians         field   \n",
       "14  Royal Challengers Bangalore          Chennai Super Kings           bat   \n",
       "\n",
       "    result  dl_applied                 winner  win_by_runs  win_by_wickets  \\\n",
       "0   normal           0  Kolkata Knight Riders          140               0   \n",
       "1   normal           0    Chennai Super Kings           33               0   \n",
       "7   normal           0    Chennai Super Kings            6               0   \n",
       "9   normal           0        Kings XI Punjab           66               0   \n",
       "14  normal           0    Chennai Super Kings           13               0   \n",
       "\n",
       "   player_of_match                                       venue      umpire1  \\\n",
       "0      BB McCullum                       M Chinnaswamy Stadium    Asad Rauf   \n",
       "1       MEK Hussey  Punjab Cricket Association Stadium, Mohali    MR Benson   \n",
       "7        ML Hayden             MA Chidambaram Stadium, Chepauk    DJ Harper   \n",
       "9    KC Sangakkara  Punjab Cricket Association Stadium, Mohali    Aleem Dar   \n",
       "14        MS Dhoni                       M Chinnaswamy Stadium  BR Doctrove   \n",
       "\n",
       "           umpire2  umpire3  \n",
       "0      RE Koertzen      NaN  \n",
       "1       SL Shastri      NaN  \n",
       "7   GA Pratapkumar      NaN  \n",
       "9        AM Saheba      NaN  \n",
       "14       RB Tiffin      NaN  "
      ]
     },
     "execution_count": 20,
     "metadata": {},
     "output_type": "execute_result"
    }
   ],
   "source": [
    "bat_first.head()"
   ]
  },
  {
   "cell_type": "code",
   "execution_count": 21,
   "metadata": {},
   "outputs": [
    {
     "data": {
      "image/png": "[encoded data removed]",
      "text/plain": [
       "<Figure size 720x360 with 1 Axes>"
      ]
     },
     "metadata": {},
     "output_type": "display_data"
    }
   ],
   "source": [
    "# histogram of win by runs\n",
    "plt.figure(figsize=(10,5))\n",
    "plt.hist(bat_first['win_by_runs'])\n",
    "plt.title('Distribution of Runs')\n",
    "plt.xlabel('Runs')\n",
    "plt.show()"
   ]
  },
  {
   "cell_type": "code",
   "execution_count": 22,
   "metadata": {},
   "outputs": [
    {
     "data": {
      "text/plain": [
       "Chennai Super Kings            46\n",
       "Mumbai Indians                 43\n",
       "Kolkata Knight Riders          29\n",
       "Kings XI Punjab                28\n",
       "Royal Challengers Bangalore    27\n",
       "Rajasthan Royals               23\n",
       "Delhi Daredevils               18\n",
       "Deccan Chargers                18\n",
       "Sunrisers Hyderabad            18\n",
       "Pune Warriors                   6\n",
       "Kochi Tuskers Kerala            2\n",
       "Rising Pune Supergiants         2\n",
       "Gujarat Lions                   1\n",
       "Name: winner, dtype: int64"
      ]
     },
     "execution_count": 22,
     "metadata": {},
     "output_type": "execute_result"
    }
   ],
   "source": [
    "# most wins with fist batting\n",
    "bat_first['winner'].value_counts()"
   ]
  },
  {
   "cell_type": "code",
   "execution_count": 24,
   "metadata": {},
   "outputs": [
    {
     "name": "stderr",
     "output_type": "stream",
     "text": [
      "c:\\Users\\Jahanzaib\\AppData\\Local\\Programs\\Python\\Python310\\lib\\site-packages\\seaborn\\_decorators.py:36: FutureWarning: Pass the following variables as keyword args: x, y. From version 0.12, the only valid positional argument will be `data`, and passing other arguments without an explicit keyword will result in an error or misinterpretation.\n",
      "  warnings.warn(\n"
     ]
    },
    {
     "data": {
      "text/plain": [
       "<AxesSubplot:>"
      ]
     },
     "execution_count": 24,
     "metadata": {},
     "output_type": "execute_result"
    },
    {
     "data": {
      "image/png": "[encoded data removed]",
      "text/plain": [
       "<Figure size 576x360 with 1 Axes>"
      ]
     },
     "metadata": {},
     "output_type": "display_data"
    }
   ],
   "source": [
    "# top 3 winners with first batting\n",
    "sns.set(rc = {'figure.figsize':(8,5)})\n",
    "sns.barplot(list(bat_first['winner'].value_counts()[0:3].keys()),list(bat_first['winner'].value_counts()[0:3]),palette='tab10')\n"
   ]
  },
  {
   "cell_type": "code",
   "execution_count": null,
   "metadata": {},
   "outputs": [
    {
     "data": {
      "image/png": "[encoded data removed]",
      "text/plain": [
       "<Figure size 504x504 with 1 Axes>"
      ]
     },
     "metadata": {},
     "output_type": "display_data"
    }
   ],
   "source": [
    "# pie chart of winners who bat first also\n",
    "plt.figure(figsize=(7,7))\n",
    "data = list(bat_first['winner'].value_counts())\n",
    "labels = list(bat_first['winner'].value_counts().keys())\n",
    "colors = sns.color_palette('Set2')[0:5]\n",
    "plt.pie(data,labels=labels,colors = colors,autopct='%0.1f%%')\n",
    "plt.show()"
   ]
  },
  {
   "cell_type": "code",
   "execution_count": 25,
   "metadata": {},
   "outputs": [],
   "source": [
    "# list of winners who ( batted second )\n",
    "bat_second=ipl[ipl['win_by_wickets']!=0]"
   ]
  },
  {
   "cell_type": "code",
   "execution_count": 26,
   "metadata": {},
   "outputs": [
    {
     "data": {
      "text/html": [
       "<div>\n",
       "<style scoped>\n",
       "    .dataframe tbody tr th:only-of-type {\n",
       "        vertical-align: middle;\n",
       "    }\n",
       "\n",
       "    .dataframe tbody tr th {\n",
       "        vertical-align: top;\n",
       "    }\n",
       "\n",
       "    .dataframe thead th {\n",
       "        text-align: right;\n",
       "    }\n",
       "</style>\n",
       "<table border=\"1\" class=\"dataframe\">\n",
       "  <thead>\n",
       "    <tr style=\"text-align: right;\">\n",
       "      <th></th>\n",
       "      <th>id</th>\n",
       "      <th>season</th>\n",
       "      <th>city</th>\n",
       "      <th>date</th>\n",
       "      <th>team1</th>\n",
       "      <th>team2</th>\n",
       "      <th>toss_winner</th>\n",
       "      <th>toss_decision</th>\n",
       "      <th>result</th>\n",
       "      <th>dl_applied</th>\n",
       "      <th>winner</th>\n",
       "      <th>win_by_runs</th>\n",
       "      <th>win_by_wickets</th>\n",
       "      <th>player_of_match</th>\n",
       "      <th>venue</th>\n",
       "      <th>umpire1</th>\n",
       "      <th>umpire2</th>\n",
       "      <th>umpire3</th>\n",
       "    </tr>\n",
       "  </thead>\n",
       "  <tbody>\n",
       "    <tr>\n",
       "      <th>2</th>\n",
       "      <td>3</td>\n",
       "      <td>2008</td>\n",
       "      <td>Delhi</td>\n",
       "      <td>2008-04-19</td>\n",
       "      <td>Rajasthan Royals</td>\n",
       "      <td>Delhi Daredevils</td>\n",
       "      <td>Rajasthan Royals</td>\n",
       "      <td>bat</td>\n",
       "      <td>normal</td>\n",
       "      <td>0</td>\n",
       "      <td>Delhi Daredevils</td>\n",
       "      <td>0</td>\n",
       "      <td>9</td>\n",
       "      <td>MF Maharoof</td>\n",
       "      <td>Feroz Shah Kotla</td>\n",
       "      <td>Aleem Dar</td>\n",
       "      <td>GA Pratapkumar</td>\n",
       "      <td>NaN</td>\n",
       "    </tr>\n",
       "    <tr>\n",
       "      <th>3</th>\n",
       "      <td>4</td>\n",
       "      <td>2008</td>\n",
       "      <td>Mumbai</td>\n",
       "      <td>2008-04-20</td>\n",
       "      <td>Mumbai Indians</td>\n",
       "      <td>Royal Challengers Bangalore</td>\n",
       "      <td>Mumbai Indians</td>\n",
       "      <td>bat</td>\n",
       "      <td>normal</td>\n",
       "      <td>0</td>\n",
       "      <td>Royal Challengers Bangalore</td>\n",
       "      <td>0</td>\n",
       "      <td>5</td>\n",
       "      <td>MV Boucher</td>\n",
       "      <td>Wankhede Stadium</td>\n",
       "      <td>SJ Davis</td>\n",
       "      <td>DJ Harper</td>\n",
       "      <td>NaN</td>\n",
       "    </tr>\n",
       "    <tr>\n",
       "      <th>4</th>\n",
       "      <td>5</td>\n",
       "      <td>2008</td>\n",
       "      <td>Kolkata</td>\n",
       "      <td>2008-04-20</td>\n",
       "      <td>Deccan Chargers</td>\n",
       "      <td>Kolkata Knight Riders</td>\n",
       "      <td>Deccan Chargers</td>\n",
       "      <td>bat</td>\n",
       "      <td>normal</td>\n",
       "      <td>0</td>\n",
       "      <td>Kolkata Knight Riders</td>\n",
       "      <td>0</td>\n",
       "      <td>5</td>\n",
       "      <td>DJ Hussey</td>\n",
       "      <td>Eden Gardens</td>\n",
       "      <td>BF Bowden</td>\n",
       "      <td>K Hariharan</td>\n",
       "      <td>NaN</td>\n",
       "    </tr>\n",
       "    <tr>\n",
       "      <th>5</th>\n",
       "      <td>6</td>\n",
       "      <td>2008</td>\n",
       "      <td>Jaipur</td>\n",
       "      <td>2008-04-21</td>\n",
       "      <td>Kings XI Punjab</td>\n",
       "      <td>Rajasthan Royals</td>\n",
       "      <td>Kings XI Punjab</td>\n",
       "      <td>bat</td>\n",
       "      <td>normal</td>\n",
       "      <td>0</td>\n",
       "      <td>Rajasthan Royals</td>\n",
       "      <td>0</td>\n",
       "      <td>6</td>\n",
       "      <td>SR Watson</td>\n",
       "      <td>Sawai Mansingh Stadium</td>\n",
       "      <td>Aleem Dar</td>\n",
       "      <td>RB Tiffin</td>\n",
       "      <td>NaN</td>\n",
       "    </tr>\n",
       "    <tr>\n",
       "      <th>6</th>\n",
       "      <td>7</td>\n",
       "      <td>2008</td>\n",
       "      <td>Hyderabad</td>\n",
       "      <td>2008-04-22</td>\n",
       "      <td>Deccan Chargers</td>\n",
       "      <td>Delhi Daredevils</td>\n",
       "      <td>Deccan Chargers</td>\n",
       "      <td>bat</td>\n",
       "      <td>normal</td>\n",
       "      <td>0</td>\n",
       "      <td>Delhi Daredevils</td>\n",
       "      <td>0</td>\n",
       "      <td>9</td>\n",
       "      <td>V Sehwag</td>\n",
       "      <td>Rajiv Gandhi International Stadium, Uppal</td>\n",
       "      <td>IL Howell</td>\n",
       "      <td>AM Saheba</td>\n",
       "      <td>NaN</td>\n",
       "    </tr>\n",
       "  </tbody>\n",
       "</table>\n",
       "</div>"
      ],
      "text/plain": [
       "   id  season       city        date             team1  \\\n",
       "2   3    2008      Delhi  2008-04-19  Rajasthan Royals   \n",
       "3   4    2008     Mumbai  2008-04-20    Mumbai Indians   \n",
       "4   5    2008    Kolkata  2008-04-20   Deccan Chargers   \n",
       "5   6    2008     Jaipur  2008-04-21   Kings XI Punjab   \n",
       "6   7    2008  Hyderabad  2008-04-22   Deccan Chargers   \n",
       "\n",
       "                         team2       toss_winner toss_decision  result  \\\n",
       "2             Delhi Daredevils  Rajasthan Royals           bat  normal   \n",
       "3  Royal Challengers Bangalore    Mumbai Indians           bat  normal   \n",
       "4        Kolkata Knight Riders   Deccan Chargers           bat  normal   \n",
       "5             Rajasthan Royals   Kings XI Punjab           bat  normal   \n",
       "6             Delhi Daredevils   Deccan Chargers           bat  normal   \n",
       "\n",
       "   dl_applied                       winner  win_by_runs  win_by_wickets  \\\n",
       "2           0             Delhi Daredevils            0               9   \n",
       "3           0  Royal Challengers Bangalore            0               5   \n",
       "4           0        Kolkata Knight Riders            0               5   \n",
       "5           0             Rajasthan Royals            0               6   \n",
       "6           0             Delhi Daredevils            0               9   \n",
       "\n",
       "  player_of_match                                      venue    umpire1  \\\n",
       "2     MF Maharoof                           Feroz Shah Kotla  Aleem Dar   \n",
       "3      MV Boucher                           Wankhede Stadium   SJ Davis   \n",
       "4       DJ Hussey                               Eden Gardens  BF Bowden   \n",
       "5       SR Watson                     Sawai Mansingh Stadium  Aleem Dar   \n",
       "6        V Sehwag  Rajiv Gandhi International Stadium, Uppal  IL Howell   \n",
       "\n",
       "          umpire2  umpire3  \n",
       "2  GA Pratapkumar      NaN  \n",
       "3       DJ Harper      NaN  \n",
       "4     K Hariharan      NaN  \n",
       "5       RB Tiffin      NaN  \n",
       "6       AM Saheba      NaN  "
      ]
     },
     "execution_count": 26,
     "metadata": {},
     "output_type": "execute_result"
    }
   ],
   "source": [
    "bat_second.head()"
   ]
  },
  {
   "cell_type": "code",
   "execution_count": 27,
   "metadata": {},
   "outputs": [
    {
     "data": {
      "image/png": "[encoded data removed]",
      "text/plain": [
       "<Figure size 576x360 with 1 Axes>"
      ]
     },
     "metadata": {},
     "output_type": "display_data"
    }
   ],
   "source": [
    "#making a histogram for frequency of win by wickets\n",
    "sns.histplot(bat_second[\"win_by_wickets\"],bins=10)\n",
    "plt.show()"
   ]
  },
  {
   "cell_type": "code",
   "execution_count": null,
   "metadata": {},
   "outputs": [
    {
     "data": {
      "text/plain": [
       "Royal Challengers Bangalore    42\n",
       "Kolkata Knight Riders          39\n",
       "Delhi Daredevils               38\n",
       "Rajasthan Royals               38\n",
       "Mumbai Indians                 37\n",
       "Chennai Super Kings            33\n",
       "Kings XI Punjab                33\n",
       "Sunrisers Hyderabad            15\n",
       "Deccan Chargers                11\n",
       "Gujarat Lions                   8\n",
       "Pune Warriors                   6\n",
       "Kochi Tuskers Kerala            4\n",
       "Rising Pune Supergiants         3\n",
       "Name: winner, dtype: int64"
      ]
     },
     "execution_count": 66,
     "metadata": {},
     "output_type": "execute_result"
    }
   ],
   "source": [
    "#finding out the frequency of number of wins w.r.t each time after batting second\n",
    "bat_second['winner'].value_counts()"
   ]
  },
  {
   "cell_type": "code",
   "execution_count": null,
   "metadata": {},
   "outputs": [
    {
     "name": "stderr",
     "output_type": "stream",
     "text": [
      "c:\\Users\\Jahanzaib\\AppData\\Local\\Programs\\Python\\Python310\\lib\\site-packages\\seaborn\\_decorators.py:36: FutureWarning: Pass the following variables as keyword args: x, y. From version 0.12, the only valid positional argument will be `data`, and passing other arguments without an explicit keyword will result in an error or misinterpretation.\n",
      "  warnings.warn(\n"
     ]
    },
    {
     "data": {
      "text/plain": [
       "<AxesSubplot:>"
      ]
     },
     "execution_count": 70,
     "metadata": {},
     "output_type": "execute_result"
    },
    {
     "data": {
      "image/png": "[encoded data removed]",
      "text/plain": [
       "<Figure size 576x360 with 1 Axes>"
      ]
     },
     "metadata": {},
     "output_type": "display_data"
    }
   ],
   "source": [
    "sns.set(rc = {'figure.figsize':(8,5)})\n",
    "sns.barplot(list(bat_second['winner'].value_counts()[0:3].keys()),list(bat_second['winner'].value_counts()[0:3]),palette='tab10')\n"
   ]
  },
  {
   "cell_type": "code",
   "execution_count": null,
   "metadata": {},
   "outputs": [
    {
     "data": {
      "image/png": "[encoded data removed]",
      "text/plain": [
       "<Figure size 504x504 with 1 Axes>"
      ]
     },
     "metadata": {},
     "output_type": "display_data"
    }
   ],
   "source": [
    "plt.figure(figsize=(7,7))\n",
    "data = list(bat_second['winner'].value_counts())\n",
    "labels = list(bat_second['winner'].value_counts().keys())\n",
    "colors = sns.color_palette('bright')[0:5]\n",
    "plt.pie(data,labels=labels,colors = colors,autopct='%0.1f%%')\n",
    "plt.show()"
   ]
  },
  {
   "cell_type": "code",
   "execution_count": null,
   "metadata": {},
   "outputs": [
    {
     "data": {
      "text/plain": [
       "2013    76\n",
       "2012    74\n",
       "2011    73\n",
       "2010    60\n",
       "2014    60\n",
       "2016    60\n",
       "2015    59\n",
       "2008    58\n",
       "2009    57\n",
       "Name: season, dtype: int64"
      ]
     },
     "execution_count": 75,
     "metadata": {},
     "output_type": "execute_result"
    }
   ],
   "source": [
    "#looking at the number of matches played each season\n",
    "ipl['season'].value_counts()"
   ]
  },
  {
   "cell_type": "code",
   "execution_count": null,
   "metadata": {},
   "outputs": [
    {
     "data": {
      "text/plain": [
       "Mumbai            77\n",
       "Bangalore         58\n",
       "Kolkata           54\n",
       "Delhi             53\n",
       "Chennai           48\n",
       "Chandigarh        42\n",
       "Hyderabad         41\n",
       "Jaipur            33\n",
       "Pune              25\n",
       "Durban            15\n",
       "Centurion         12\n",
       "Ahmedabad         12\n",
       "Visakhapatnam     11\n",
       "Dharamsala         9\n",
       "Johannesburg       8\n",
       "Cuttack            7\n",
       "Port Elizabeth     7\n",
       "Cape Town          7\n",
       "Ranchi             7\n",
       "Abu Dhabi          7\n",
       "Sharjah            6\n",
       "Raipur             6\n",
       "Kochi              5\n",
       "Rajkot             5\n",
       "Kimberley          3\n",
       "Nagpur             3\n",
       "East London        3\n",
       "Bloemfontein       2\n",
       "Indore             2\n",
       "Kanpur             2\n",
       "Name: city, dtype: int64"
      ]
     },
     "execution_count": 76,
     "metadata": {},
     "output_type": "execute_result"
    }
   ],
   "source": [
    "#looking at the number of matches played in each city\n",
    "ipl['city'].value_counts()"
   ]
  },
  {
   "cell_type": "code",
   "execution_count": null,
   "metadata": {},
   "outputs": [
    {
     "data": {
      "text/plain": [
       "291"
      ]
     },
     "execution_count": 79,
     "metadata": {},
     "output_type": "execute_result"
    }
   ],
   "source": [
    "#finding out how many times a team has won the match after winning the toss\n",
    "TossWin_MatchWin=np.sum(ipl['toss_winner']==ipl['winner'])\n",
    "TossWin_MatchWin"
   ]
  },
  {
   "cell_type": "code",
   "execution_count": null,
   "metadata": {},
   "outputs": [
    {
     "data": {
      "text/plain": [
       "50.43327556325823"
      ]
     },
     "execution_count": 81,
     "metadata": {},
     "output_type": "execute_result"
    }
   ],
   "source": [
    "#percent of matches won after winning the toss\n",
    "(TossWin_MatchWin/ipl.shape[0])*100"
   ]
  },
  {
   "cell_type": "code",
   "execution_count": null,
   "metadata": {},
   "outputs": [],
   "source": []
  }
 ],
 "metadata": {
  "kernelspec": {
   "display_name": "Python 3.10.2 64-bit",
   "language": "python",
   "name": "python3"
  },
  "language_info": {
   "codemirror_mode": {
    "name": "ipython",
    "version": 3
   },
   "file_extension": ".py",
   "mimetype": "text/x-python",
   "name": "python",
   "nbconvert_exporter": "python",
   "pygments_lexer": "ipython3",
   "version": "3.10.2"
  },
  "orig_nbformat": 4,
  "vscode": {
   "interpreter": {
    "hash": "56b2d59c60e4f87487f41cc5e6e8f6aa7185f560bca4a918a113fd85cb7bd9a7"
   }
  }
 },
 "nbformat": 4,
 "nbformat_minor": 2
}
